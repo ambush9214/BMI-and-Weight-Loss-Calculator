{
 "cells": [
  {
   "cell_type": "markdown",
   "id": "bcc86dd7-9b14-4e19-a092-29b7f54800b1",
   "metadata": {},
   "source": [
    "# BMI Calculator"
   ]
  },
  {
   "cell_type": "code",
   "execution_count": 6,
   "id": "ad7e9ae6-2eba-478a-a713-d0eafe9f95fe",
   "metadata": {},
   "outputs": [
    {
     "name": "stdin",
     "output_type": "stream",
     "text": [
      "Enter your name: sam\n",
      "Enter your age in years: 36\n",
      "Enter your height in inches: 62\n",
      "Enter your weight in pounds: 165\n"
     ]
    },
    {
     "name": "stdout",
     "output_type": "stream",
     "text": [
      "30.18\n",
      "sam, you are obese\n"
     ]
    },
    {
     "name": "stdin",
     "output_type": "stream",
     "text": [
      "How many pounds would you like to lose?: 20\n"
     ]
    },
    {
     "name": "stdout",
     "output_type": "stream",
     "text": [
      "145  is your goal weight\n",
      "1.65 is how many pounds per week you can safely lose.\n",
      "12.12 is how many weeks it will take you to reach your goal weight.\n"
     ]
    }
   ],
   "source": [
    "Name = input(\"Enter your name:\")\n",
    "\n",
    "Age = input(\"Enter your age in years:\")\n",
    "\n",
    "Height = int(input(\"Enter your height in inches:\"))\n",
    "\n",
    "Weight = int(input(\"Enter your weight in pounds:\"))\n",
    "\n",
    "BMI = round((Weight * 703) / (Height * Height),2)\n",
    "\n",
    "print(BMI)\n",
    "\n",
    "if BMI > 0:\n",
    "    if (BMI<= 18.5):\n",
    "        print(Name +\", you are underweight\")\n",
    "    elif(BMI<= 24.9):\n",
    "        print(Name +\", you are at a healthy weight\")\n",
    "    elif(BMI<= 29.9):\n",
    "        print(Name +\", you are overweight\")\n",
    "    elif(BMI<=34.9):\n",
    "        print(Name +\", you are obese\")\n",
    "    elif(BMI>= 39.9):\n",
    "        print(Name +\", you are morbidly obese\")\n",
    "\n",
    "Value = int(input(\"How many pounds would you like to lose?:\"))\n",
    "\n",
    "Goal_Weight = (Weight - Value)\n",
    "\n",
    "print(Goal_Weight,\" is your goal weight\")\n",
    "\n",
    "Weekly_Loss = round((Weight * 0.01), 2)\n",
    "\n",
    "print(Weekly_Loss, \"is how many pounds per week you can safely lose.\")\n",
    "\n",
    "Amount_of_weeks = round((Value/ (Weight * 0.01)),2)\n",
    "\n",
    "print(Amount_of_weeks, \"is how many weeks it will take you to reach your goal weight.\")\n"
   ]
  },
  {
   "cell_type": "markdown",
   "id": "ddaf4820-1a4b-4e34-b72a-588bc2c44596",
   "metadata": {},
   "source": [
    "# Body Mass Index Standards"
   ]
  },
  {
   "cell_type": "code",
   "execution_count": 8,
   "id": "b72cfe4b-0129-4979-b45c-732ed6d69fab",
   "metadata": {},
   "outputs": [],
   "source": [
    "# Underweight is a BMI <= 18.5\n",
    "\n",
    "# Normal/ Healthy weight is a BMI that is between 18.6 and 24.9\n",
    "\n",
    "# Overweight is a BMI that is between 25 and 29.9\n",
    "\n",
    "# Obese is a BMI that is between 30 and 34.9\n",
    "\n",
    "# Morbidly Obses is a BMI that is > 35\n"
   ]
  },
  {
   "cell_type": "markdown",
   "id": "9576d6b3-b6f1-4138-9eaa-279271b301e0",
   "metadata": {},
   "source": [
    "# What is BMI used for?"
   ]
  },
  {
   "cell_type": "code",
   "execution_count": null,
   "id": "9d665584-0895-41d9-812e-209d20a4581c",
   "metadata": {},
   "outputs": [],
   "source": [
    "# The body mass index (BMI) is used for assessing general health at a global level. \n",
    "\n",
    "# BMI is commonly used as a quick way to determine how \"at risk\", a person is in regards to their height and weight. "
   ]
  },
  {
   "cell_type": "markdown",
   "id": "b3c7d6fa-6263-43de-87bb-d6588cdc4f4f",
   "metadata": {},
   "source": [
    "# Why BMI is not a great standard"
   ]
  },
  {
   "cell_type": "code",
   "execution_count": 12,
   "id": "7778d54f-1b66-4fc2-8b1c-366271ee01c6",
   "metadata": {},
   "outputs": [],
   "source": [
    "# BMI does not reflect the health of an individual, a person may be \"obese\" but have a healthy body fat percentage. \n",
    "\n",
    "# Body fat percentage is a better reflection of individual health, because it means that they can be overweight or obese but have an above average muscle mass. \n",
    "\n"
   ]
  },
  {
   "cell_type": "markdown",
   "id": "95a33ce6-8850-4d5c-8ea9-0f919a173fff",
   "metadata": {},
   "source": [
    "# Weight loss calculator"
   ]
  },
  {
   "cell_type": "code",
   "execution_count": 21,
   "id": "b0abbac0-4d40-4079-bdfc-e1faa9b8d616",
   "metadata": {},
   "outputs": [
    {
     "name": "stdin",
     "output_type": "stream",
     "text": [
      "What is your name? sam\n",
      "what is your current weight? 165\n",
      "How many pounds would you like to lose?: 20\n"
     ]
    },
    {
     "name": "stdout",
     "output_type": "stream",
     "text": [
      "145  is your goal weight\n",
      "1.6500000000000001 is how many pounds per week you can safely lose\n",
      "12.121212121212121 is how many weeks it will take you to reach your goal weight\n"
     ]
    }
   ],
   "source": [
    "Name = input(\"What is your name?\")\n",
    "\n",
    "Weight = int(input(\"what is your current weight?\"))\n",
    "\n",
    "Value = int(input(\"How many pounds would you like to lose?:\"))\n",
    "\n",
    "Goal_Weight = (Weight - Value)\n",
    "\n",
    "print(Goal_Weight,\" is your goal weight\")\n",
    "\n",
    "Weekly_Loss = (Weight * 0.01)\n",
    "\n",
    "print(Weekly_Loss, \"is how many pounds per week you can safely lose.\")\n",
    "\n",
    "Amount_of_weeks = (20/ (Weight * 0.01))\n",
    "\n",
    "print(Amount_of_weeks, \"is how many weeks it will take you to reach your goal weight.\")\n",
    "\n"
   ]
  },
  {
   "cell_type": "code",
   "execution_count": null,
   "id": "ae2ebc39-c145-4715-8894-63817a322c31",
   "metadata": {},
   "outputs": [],
   "source": []
  },
  {
   "cell_type": "code",
   "execution_count": null,
   "id": "2a2f1ce6-c326-4981-9aad-c1ed3b1444fc",
   "metadata": {},
   "outputs": [],
   "source": []
  },
  {
   "cell_type": "code",
   "execution_count": null,
   "id": "a4499e99-bd4a-46f2-af6a-3e7a90f876cb",
   "metadata": {},
   "outputs": [],
   "source": [
    "\n"
   ]
  },
  {
   "cell_type": "code",
   "execution_count": null,
   "id": "f9cf4c4e-9bbf-4b7b-b008-e4b50375dbc0",
   "metadata": {},
   "outputs": [],
   "source": []
  },
  {
   "cell_type": "code",
   "execution_count": null,
   "id": "6ae60ff8-fdc7-4784-b4d2-c277f46cf762",
   "metadata": {},
   "outputs": [],
   "source": []
  },
  {
   "cell_type": "code",
   "execution_count": null,
   "id": "99da9362-6027-4e87-bb7b-352b25028a62",
   "metadata": {},
   "outputs": [],
   "source": []
  },
  {
   "cell_type": "code",
   "execution_count": null,
   "id": "420944b1-c84c-418c-8f4f-95d62d7cfa67",
   "metadata": {},
   "outputs": [],
   "source": []
  },
  {
   "cell_type": "code",
   "execution_count": null,
   "id": "8b93014c-64b7-4d55-8fb3-5253ba1c8679",
   "metadata": {},
   "outputs": [],
   "source": []
  },
  {
   "cell_type": "code",
   "execution_count": null,
   "id": "af4b3f8c-7d98-4a76-b29c-7dccbdd60bda",
   "metadata": {},
   "outputs": [],
   "source": []
  },
  {
   "cell_type": "code",
   "execution_count": null,
   "id": "c8747bb5-d3af-4f11-be24-b79c405361a0",
   "metadata": {},
   "outputs": [],
   "source": []
  }
 ],
 "metadata": {
  "kernelspec": {
   "display_name": "anaconda-2024.02-py310",
   "language": "python",
   "name": "conda-env-anaconda-2024.02-py310-py"
  },
  "language_info": {
   "codemirror_mode": {
    "name": "ipython",
    "version": 3
   },
   "file_extension": ".py",
   "mimetype": "text/x-python",
   "name": "python",
   "nbconvert_exporter": "python",
   "pygments_lexer": "ipython3",
   "version": "3.10.14"
  }
 },
 "nbformat": 4,
 "nbformat_minor": 5
}
